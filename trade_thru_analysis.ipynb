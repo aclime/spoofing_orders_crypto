{
 "cells": [
  {
   "cell_type": "code",
   "execution_count": 2,
   "id": "5410609a",
   "metadata": {},
   "outputs": [
    {
     "name": "stdout",
     "output_type": "stream",
     "text": [
      "The autoreload extension is already loaded. To reload it, use:\n",
      "  %reload_ext autoreload\n"
     ]
    }
   ],
   "source": [
    "%load_ext autoreload\n",
    "%autoreload 2"
   ]
  },
  {
   "cell_type": "code",
   "execution_count": 3,
   "id": "9888cac8",
   "metadata": {},
   "outputs": [
    {
     "data": {
      "text/plain": [
       "'/Users/austinclime/VS code projects/spoofing_orders_crypto'"
      ]
     },
     "execution_count": 3,
     "metadata": {},
     "output_type": "execute_result"
    }
   ],
   "source": [
    "import os\n",
    "os.getcwd()"
   ]
  },
  {
   "cell_type": "code",
   "execution_count": 4,
   "id": "a714c4d0",
   "metadata": {},
   "outputs": [],
   "source": [
    "import nest_asyncio\n",
    "nest_asyncio.apply()"
   ]
  },
  {
   "cell_type": "code",
   "execution_count": 6,
   "id": "8d1a1b45",
   "metadata": {},
   "outputs": [],
   "source": [
    "import pandas as pd\n",
    "from data_pull import get_lob_history"
   ]
  },
  {
   "cell_type": "markdown",
   "id": "21dd03a0",
   "metadata": {},
   "source": [
    "# Task 1\n",
    "How long does it take to go through a year of limit order dataa?"
   ]
  },
  {
   "cell_type": "code",
   "execution_count": 8,
   "id": "f52d37bd",
   "metadata": {},
   "outputs": [
    {
     "name": "stdout",
     "output_type": "stream",
     "text": [
      "2020-01-01 (1772489, 104)\n",
      "2020-01-02 (2286095, 104)\n",
      "2020-01-03 (3636962, 104)\n",
      "2020-01-04 (2035811, 104)\n",
      "2020-01-05 (2312092, 104)\n",
      "2020-01-06 (3223747, 104)\n",
      "2020-01-07 (5078308, 104)\n",
      "2020-01-08 (6877259, 104)\n",
      "2020-01-09 (5225992, 104)\n",
      "2020-01-10 (6069886, 104)\n",
      "Elapsed time: 1491.0432 seconds\n"
     ]
    }
   ],
   "source": [
    "start_date = \"2020-01-01\"\n",
    "end_date = \"2020-01-10\" # non inclusive\n",
    "exchange=\"deribit\"\n",
    "symbols=[\"BTC-PERPETUAL\"]\n",
    "\n",
    "get_lob_history(exchange=exchange,start_date=start_date,end_date=end_date,symbols=symbols)"
   ]
  },
  {
   "cell_type": "code",
   "execution_count": 14,
   "id": "68d7d0a7",
   "metadata": {},
   "outputs": [
    {
     "name": "stdout",
     "output_type": "stream",
     "text": [
      "Downloading 10 files...\n",
      "Download failed for 2020-01-10: 'NoneType' object is not callable\n",
      "Download failed for 2020-01-09: 'NoneType' object is not callable\n",
      "Download failed for 2020-01-08: 'NoneType' object is not callable\n",
      "Download failed for 2020-01-07: 'NoneType' object is not callable\n",
      "Download failed for 2020-01-06: 'NoneType' object is not callable\n",
      "Download failed for 2020-01-05: 'NoneType' object is not callable\n",
      "Download failed for 2020-01-04: 'NoneType' object is not callable\n",
      "Download failed for 2020-01-03: 'NoneType' object is not callable\n",
      "Download failed for 2020-01-02: 'NoneType' object is not callable\n",
      "Download failed for 2020-01-01: 'NoneType' object is not callable\n",
      "2020-01-01 BTC-PERPETUAL: 1772489 rows\n",
      "2020-01-02 BTC-PERPETUAL: 2286095 rows\n",
      "2020-01-03 BTC-PERPETUAL: 3636962 rows\n",
      "2020-01-04 BTC-PERPETUAL: 2035811 rows\n",
      "2020-01-05 BTC-PERPETUAL: 2312092 rows\n",
      "2020-01-06 BTC-PERPETUAL: 3223747 rows\n",
      "2020-01-07 BTC-PERPETUAL: 5078308 rows\n",
      "2020-01-08 BTC-PERPETUAL: 6877259 rows\n",
      "2020-01-09 BTC-PERPETUAL: 5225992 rows\n",
      "2020-01-10 BTC-PERPETUAL: 6069886 rows\n",
      "\n",
      "Total elapsed time: 1139.59 seconds\n"
     ]
    }
   ],
   "source": [
    "import time\n",
    "import asyncio\n",
    "\n",
    "start_date = \"2020-01-01\"\n",
    "end_date = \"2020-01-10\" # non inclusive\n",
    "exchange=\"deribit\"\n",
    "symbols=[\"BTC-PERPETUAL\"]\n",
    "\n",
    "start_time = time.time()\n",
    "asyncio.run(get_lob_history(\n",
    "    exchange=exchange,\n",
    "    start_date=start_date,\n",
    "    end_date=end_date,\n",
    "    symbols=symbols\n",
    "))\n",
    "print(f\"\\nTotal elapsed time: {time.time() - start_time:.2f} seconds\")"
   ]
  },
  {
   "cell_type": "code",
   "execution_count": null,
   "id": "d61cb6e0",
   "metadata": {},
   "outputs": [
    {
     "name": "stdout",
     "output_type": "stream",
     "text": [
      "Help on package tardis_dev:\n",
      "\n",
      "NAME\n",
      "    tardis_dev\n",
      "\n",
      "PACKAGE CONTENTS\n",
      "    datasets (package)\n",
      "    get_exchange_details\n",
      "\n",
      "VERSION\n",
      "    2.0.0\n",
      "\n",
      "FILE\n",
      "    /Users/austinclime/VS code projects/spoofing_orders_crypto/env/lib/python3.9/site-packages/tardis_dev/__init__.py\n",
      "\n",
      "\n"
     ]
    }
   ],
   "source": [
    "#from tardis_dev import datasets\n",
    "#import tardis_dev\n",
    "#help(tardis_dev)"
   ]
  },
  {
   "cell_type": "code",
   "execution_count": null,
   "id": "52f0c162",
   "metadata": {},
   "outputs": [],
   "source": [
    "import pandas as pd\n",
    "from glob import glob\n",
    "\n",
    "tresury_files=glob('/Users/austinclime/Downloads/treasury_par_rates/'+'daily-treasury-rates*.csv')\n",
    "consolidated_rate_df=pd.concat([pd.read_csv(file) for file in tresury_files],ignore_index=True)[['Date', '1 Mo', '1.5 Month','2 Mo','3 Mo', '4 Mo','6 Mo', '1 Yr', '2 Yr', '3 Yr', '5 Yr', '7 Yr','10 Yr', '20 Yr', '30 Yr']]#.set_index('Date')\n",
    "consolidated_rate_df['Date']=pd.to_datetime(consolidated_rate_df['Date'])\n",
    "#consolidated_rate_df[consolidated_rate_df.Date.dt.year==1997]\n",
    "consolidated_rate_df.sort_values(by=['Date'])#.to_csv('/Users/austinclime/Downloads/interest_rate_consolidated.csv')\n"
   ]
  }
 ],
 "metadata": {
  "kernelspec": {
   "display_name": "env",
   "language": "python",
   "name": "python3"
  },
  "language_info": {
   "codemirror_mode": {
    "name": "ipython",
    "version": 3
   },
   "file_extension": ".py",
   "mimetype": "text/x-python",
   "name": "python",
   "nbconvert_exporter": "python",
   "pygments_lexer": "ipython3",
   "version": "3.9.6"
  }
 },
 "nbformat": 4,
 "nbformat_minor": 5
}
